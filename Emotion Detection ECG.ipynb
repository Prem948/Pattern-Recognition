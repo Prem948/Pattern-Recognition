{
 "cells": [
  {
   "cell_type": "code",
   "execution_count": 3,
   "metadata": {},
   "outputs": [],
   "source": [
    "import numpy as np\n",
    "import pandas as pd\n",
    "import matplotlib.pyplot as plt\n",
    "from sklearn.preprocessing import StandardScaler\n",
    "from sklearn.model_selection import train_test_split\n",
    "from sklearn import svm,tree,metrics\n",
    "import warnings\n",
    "warnings.filterwarnings('ignore')"
   ]
  },
  {
   "cell_type": "code",
   "execution_count": 4,
   "metadata": {},
   "outputs": [],
   "source": [
    "df=pd.read_csv(\"D:\\Prem\\Study Documents\\Semester 3\\Pattern Recognition\\Thesis\\Project\\ECG\\Feature_old.csv\")"
   ]
  },
  {
   "cell_type": "code",
   "execution_count": 5,
   "metadata": {},
   "outputs": [
    {
     "data": {
      "text/plain": [
       "(414, 72)"
      ]
     },
     "execution_count": 5,
     "metadata": {},
     "output_type": "execute_result"
    }
   ],
   "source": [
    "df.shape"
   ]
  },
  {
   "cell_type": "code",
   "execution_count": 6,
   "metadata": {},
   "outputs": [],
   "source": [
    "# Valance, Arousal, Dominance\n",
    "feature_X=df.iloc[:,0:-3]\n",
    "feature_V=df.iloc[:,-3]\n",
    "feature_A=df.iloc[:,-2]\n",
    "feature_D=df.iloc[:,-1]\n",
    "\n",
    "X_train,X_test,Y_train,Y_test=train_test_split(feature_X,feature_V,test_size=0.3,random_state=7)"
   ]
  },
  {
   "cell_type": "code",
   "execution_count": 7,
   "metadata": {},
   "outputs": [
    {
     "data": {
      "text/html": [
       "<div>\n",
       "<style scoped>\n",
       "    .dataframe tbody tr th:only-of-type {\n",
       "        vertical-align: middle;\n",
       "    }\n",
       "\n",
       "    .dataframe tbody tr th {\n",
       "        vertical-align: top;\n",
       "    }\n",
       "\n",
       "    .dataframe thead th {\n",
       "        text-align: right;\n",
       "    }\n",
       "</style>\n",
       "<table border=\"1\" class=\"dataframe\">\n",
       "  <thead>\n",
       "    <tr style=\"text-align: right;\">\n",
       "      <th></th>\n",
       "      <th>Unnamed: 0</th>\n",
       "      <th>psdtheta_1</th>\n",
       "      <th>psdalpha_1</th>\n",
       "      <th>psdbeta_1</th>\n",
       "      <th>psdtheta_2</th>\n",
       "      <th>psdalpha_2</th>\n",
       "      <th>psdbeta_2</th>\n",
       "      <th>psdtheta_3</th>\n",
       "      <th>psdalpha_3</th>\n",
       "      <th>psdbeta_3</th>\n",
       "      <th>...</th>\n",
       "      <th>LFn</th>\n",
       "      <th>HFn</th>\n",
       "      <th>LnHF</th>\n",
       "      <th>SD1</th>\n",
       "      <th>SD2</th>\n",
       "      <th>SD2SD1</th>\n",
       "      <th>CSI</th>\n",
       "      <th>CVI</th>\n",
       "      <th>CSI_Modified</th>\n",
       "      <th>SampEn</th>\n",
       "    </tr>\n",
       "  </thead>\n",
       "  <tbody>\n",
       "    <tr>\n",
       "      <th>0</th>\n",
       "      <td>0</td>\n",
       "      <td>-0.137607</td>\n",
       "      <td>-0.137238</td>\n",
       "      <td>-0.116997</td>\n",
       "      <td>-0.080612</td>\n",
       "      <td>-0.081118</td>\n",
       "      <td>-0.108773</td>\n",
       "      <td>-0.146683</td>\n",
       "      <td>-0.182929</td>\n",
       "      <td>-0.229771</td>\n",
       "      <td>...</td>\n",
       "      <td>2.373568</td>\n",
       "      <td>-0.804867</td>\n",
       "      <td>0.565932</td>\n",
       "      <td>-0.319390</td>\n",
       "      <td>-0.242938</td>\n",
       "      <td>-0.092276</td>\n",
       "      <td>-0.092276</td>\n",
       "      <td>-0.227995</td>\n",
       "      <td>-0.242590</td>\n",
       "      <td>-0.591364</td>\n",
       "    </tr>\n",
       "    <tr>\n",
       "      <th>1</th>\n",
       "      <td>1</td>\n",
       "      <td>-0.139174</td>\n",
       "      <td>-0.138685</td>\n",
       "      <td>-0.117599</td>\n",
       "      <td>-0.096207</td>\n",
       "      <td>-0.096338</td>\n",
       "      <td>-0.110293</td>\n",
       "      <td>-0.119051</td>\n",
       "      <td>-0.104170</td>\n",
       "      <td>-0.091178</td>\n",
       "      <td>...</td>\n",
       "      <td>-0.310453</td>\n",
       "      <td>-0.117790</td>\n",
       "      <td>0.900424</td>\n",
       "      <td>1.657676</td>\n",
       "      <td>0.331446</td>\n",
       "      <td>-0.705940</td>\n",
       "      <td>-0.705940</td>\n",
       "      <td>1.167664</td>\n",
       "      <td>-0.276722</td>\n",
       "      <td>0.497739</td>\n",
       "    </tr>\n",
       "    <tr>\n",
       "      <th>2</th>\n",
       "      <td>2</td>\n",
       "      <td>-0.127690</td>\n",
       "      <td>-0.127539</td>\n",
       "      <td>-0.110420</td>\n",
       "      <td>-0.101203</td>\n",
       "      <td>-0.101259</td>\n",
       "      <td>-0.098381</td>\n",
       "      <td>-0.105765</td>\n",
       "      <td>-0.105699</td>\n",
       "      <td>0.042209</td>\n",
       "      <td>...</td>\n",
       "      <td>-0.356057</td>\n",
       "      <td>-0.169753</td>\n",
       "      <td>0.337649</td>\n",
       "      <td>-0.081641</td>\n",
       "      <td>0.142392</td>\n",
       "      <td>0.137403</td>\n",
       "      <td>0.137403</td>\n",
       "      <td>0.201158</td>\n",
       "      <td>0.002242</td>\n",
       "      <td>-0.598682</td>\n",
       "    </tr>\n",
       "    <tr>\n",
       "      <th>3</th>\n",
       "      <td>3</td>\n",
       "      <td>-0.158972</td>\n",
       "      <td>-0.158123</td>\n",
       "      <td>-0.131111</td>\n",
       "      <td>-0.100674</td>\n",
       "      <td>-0.100739</td>\n",
       "      <td>-0.097964</td>\n",
       "      <td>-0.069629</td>\n",
       "      <td>-0.030775</td>\n",
       "      <td>-0.003793</td>\n",
       "      <td>...</td>\n",
       "      <td>-0.404926</td>\n",
       "      <td>-0.025817</td>\n",
       "      <td>0.148437</td>\n",
       "      <td>0.678827</td>\n",
       "      <td>0.322955</td>\n",
       "      <td>-0.234828</td>\n",
       "      <td>-0.234828</td>\n",
       "      <td>0.745119</td>\n",
       "      <td>-0.078352</td>\n",
       "      <td>-0.753730</td>\n",
       "    </tr>\n",
       "    <tr>\n",
       "      <th>4</th>\n",
       "      <td>4</td>\n",
       "      <td>-0.110480</td>\n",
       "      <td>-0.110713</td>\n",
       "      <td>-0.099031</td>\n",
       "      <td>-0.111506</td>\n",
       "      <td>-0.111337</td>\n",
       "      <td>-0.089051</td>\n",
       "      <td>0.049651</td>\n",
       "      <td>0.050012</td>\n",
       "      <td>0.054975</td>\n",
       "      <td>...</td>\n",
       "      <td>-0.391056</td>\n",
       "      <td>3.513924</td>\n",
       "      <td>1.472641</td>\n",
       "      <td>-0.939539</td>\n",
       "      <td>-0.859683</td>\n",
       "      <td>-0.336588</td>\n",
       "      <td>-0.336588</td>\n",
       "      <td>-1.183689</td>\n",
       "      <td>-0.547362</td>\n",
       "      <td>0.520783</td>\n",
       "    </tr>\n",
       "  </tbody>\n",
       "</table>\n",
       "<p>5 rows × 69 columns</p>\n",
       "</div>"
      ],
      "text/plain": [
       "   Unnamed: 0  psdtheta_1  psdalpha_1  psdbeta_1  psdtheta_2  psdalpha_2  \\\n",
       "0           0   -0.137607   -0.137238  -0.116997   -0.080612   -0.081118   \n",
       "1           1   -0.139174   -0.138685  -0.117599   -0.096207   -0.096338   \n",
       "2           2   -0.127690   -0.127539  -0.110420   -0.101203   -0.101259   \n",
       "3           3   -0.158972   -0.158123  -0.131111   -0.100674   -0.100739   \n",
       "4           4   -0.110480   -0.110713  -0.099031   -0.111506   -0.111337   \n",
       "\n",
       "   psdbeta_2  psdtheta_3  psdalpha_3  psdbeta_3  ...       LFn       HFn  \\\n",
       "0  -0.108773   -0.146683   -0.182929  -0.229771  ...  2.373568 -0.804867   \n",
       "1  -0.110293   -0.119051   -0.104170  -0.091178  ... -0.310453 -0.117790   \n",
       "2  -0.098381   -0.105765   -0.105699   0.042209  ... -0.356057 -0.169753   \n",
       "3  -0.097964   -0.069629   -0.030775  -0.003793  ... -0.404926 -0.025817   \n",
       "4  -0.089051    0.049651    0.050012   0.054975  ... -0.391056  3.513924   \n",
       "\n",
       "       LnHF       SD1       SD2    SD2SD1       CSI       CVI  CSI_Modified  \\\n",
       "0  0.565932 -0.319390 -0.242938 -0.092276 -0.092276 -0.227995     -0.242590   \n",
       "1  0.900424  1.657676  0.331446 -0.705940 -0.705940  1.167664     -0.276722   \n",
       "2  0.337649 -0.081641  0.142392  0.137403  0.137403  0.201158      0.002242   \n",
       "3  0.148437  0.678827  0.322955 -0.234828 -0.234828  0.745119     -0.078352   \n",
       "4  1.472641 -0.939539 -0.859683 -0.336588 -0.336588 -1.183689     -0.547362   \n",
       "\n",
       "     SampEn  \n",
       "0 -0.591364  \n",
       "1  0.497739  \n",
       "2 -0.598682  \n",
       "3 -0.753730  \n",
       "4  0.520783  \n",
       "\n",
       "[5 rows x 69 columns]"
      ]
     },
     "execution_count": 7,
     "metadata": {},
     "output_type": "execute_result"
    }
   ],
   "source": [
    "feature_X.head()"
   ]
  },
  {
   "cell_type": "code",
   "execution_count": 8,
   "metadata": {},
   "outputs": [
    {
     "data": {
      "text/html": [
       "<div>\n",
       "<style scoped>\n",
       "    .dataframe tbody tr th:only-of-type {\n",
       "        vertical-align: middle;\n",
       "    }\n",
       "\n",
       "    .dataframe tbody tr th {\n",
       "        vertical-align: top;\n",
       "    }\n",
       "\n",
       "    .dataframe thead th {\n",
       "        text-align: right;\n",
       "    }\n",
       "</style>\n",
       "<table border=\"1\" class=\"dataframe\">\n",
       "  <thead>\n",
       "    <tr style=\"text-align: right;\">\n",
       "      <th></th>\n",
       "      <th>Unnamed: 0</th>\n",
       "      <th>psdtheta_1</th>\n",
       "      <th>psdalpha_1</th>\n",
       "      <th>psdbeta_1</th>\n",
       "      <th>psdtheta_2</th>\n",
       "      <th>psdalpha_2</th>\n",
       "      <th>psdbeta_2</th>\n",
       "      <th>psdtheta_3</th>\n",
       "      <th>psdalpha_3</th>\n",
       "      <th>psdbeta_3</th>\n",
       "      <th>...</th>\n",
       "      <th>LFn</th>\n",
       "      <th>HFn</th>\n",
       "      <th>LnHF</th>\n",
       "      <th>SD1</th>\n",
       "      <th>SD2</th>\n",
       "      <th>SD2SD1</th>\n",
       "      <th>CSI</th>\n",
       "      <th>CVI</th>\n",
       "      <th>CSI_Modified</th>\n",
       "      <th>SampEn</th>\n",
       "    </tr>\n",
       "  </thead>\n",
       "  <tbody>\n",
       "    <tr>\n",
       "      <th>62</th>\n",
       "      <td>62</td>\n",
       "      <td>-0.141114</td>\n",
       "      <td>-0.140692</td>\n",
       "      <td>-0.119448</td>\n",
       "      <td>-0.104710</td>\n",
       "      <td>-0.104699</td>\n",
       "      <td>-0.101114</td>\n",
       "      <td>-0.082800</td>\n",
       "      <td>-0.082761</td>\n",
       "      <td>-0.079441</td>\n",
       "      <td>...</td>\n",
       "      <td>-0.232605</td>\n",
       "      <td>-0.114209</td>\n",
       "      <td>-0.650529</td>\n",
       "      <td>0.650951</td>\n",
       "      <td>-0.372099</td>\n",
       "      <td>-0.834526</td>\n",
       "      <td>-0.834526</td>\n",
       "      <td>0.174463</td>\n",
       "      <td>-0.530635</td>\n",
       "      <td>-0.626467</td>\n",
       "    </tr>\n",
       "    <tr>\n",
       "      <th>139</th>\n",
       "      <td>139</td>\n",
       "      <td>0.073790</td>\n",
       "      <td>0.069636</td>\n",
       "      <td>0.023678</td>\n",
       "      <td>-0.089031</td>\n",
       "      <td>-0.089341</td>\n",
       "      <td>-0.089014</td>\n",
       "      <td>0.007956</td>\n",
       "      <td>0.008225</td>\n",
       "      <td>0.012635</td>\n",
       "      <td>...</td>\n",
       "      <td>0.193562</td>\n",
       "      <td>-0.868610</td>\n",
       "      <td>-0.411005</td>\n",
       "      <td>0.056721</td>\n",
       "      <td>0.229485</td>\n",
       "      <td>0.113600</td>\n",
       "      <td>0.113600</td>\n",
       "      <td>0.299289</td>\n",
       "      <td>0.030168</td>\n",
       "      <td>-0.254505</td>\n",
       "    </tr>\n",
       "    <tr>\n",
       "      <th>165</th>\n",
       "      <td>165</td>\n",
       "      <td>-0.013854</td>\n",
       "      <td>-0.016193</td>\n",
       "      <td>-0.034849</td>\n",
       "      <td>-0.136049</td>\n",
       "      <td>-0.135344</td>\n",
       "      <td>-0.124984</td>\n",
       "      <td>0.004423</td>\n",
       "      <td>0.004773</td>\n",
       "      <td>0.009640</td>\n",
       "      <td>...</td>\n",
       "      <td>-0.346106</td>\n",
       "      <td>-0.606241</td>\n",
       "      <td>-0.381628</td>\n",
       "      <td>0.247812</td>\n",
       "      <td>0.766847</td>\n",
       "      <td>0.495424</td>\n",
       "      <td>0.495424</td>\n",
       "      <td>1.035840</td>\n",
       "      <td>0.450107</td>\n",
       "      <td>-1.703384</td>\n",
       "    </tr>\n",
       "    <tr>\n",
       "      <th>314</th>\n",
       "      <td>314</td>\n",
       "      <td>-0.196012</td>\n",
       "      <td>-0.199320</td>\n",
       "      <td>-0.186371</td>\n",
       "      <td>-0.110672</td>\n",
       "      <td>-0.110513</td>\n",
       "      <td>-0.116581</td>\n",
       "      <td>-0.223288</td>\n",
       "      <td>-0.223314</td>\n",
       "      <td>-0.219851</td>\n",
       "      <td>...</td>\n",
       "      <td>0.026029</td>\n",
       "      <td>-0.200398</td>\n",
       "      <td>-0.394567</td>\n",
       "      <td>1.440064</td>\n",
       "      <td>-0.236440</td>\n",
       "      <td>-0.930791</td>\n",
       "      <td>-0.930791</td>\n",
       "      <td>0.447371</td>\n",
       "      <td>-0.540515</td>\n",
       "      <td>0.318586</td>\n",
       "    </tr>\n",
       "    <tr>\n",
       "      <th>73</th>\n",
       "      <td>73</td>\n",
       "      <td>-0.079468</td>\n",
       "      <td>-0.080361</td>\n",
       "      <td>-0.106198</td>\n",
       "      <td>-0.094159</td>\n",
       "      <td>-0.094358</td>\n",
       "      <td>-0.092928</td>\n",
       "      <td>-0.006710</td>\n",
       "      <td>-0.006439</td>\n",
       "      <td>-0.001862</td>\n",
       "      <td>...</td>\n",
       "      <td>-0.154904</td>\n",
       "      <td>0.077532</td>\n",
       "      <td>-0.341471</td>\n",
       "      <td>-0.548749</td>\n",
       "      <td>-0.254354</td>\n",
       "      <td>0.104424</td>\n",
       "      <td>0.104424</td>\n",
       "      <td>-0.385843</td>\n",
       "      <td>-0.180756</td>\n",
       "      <td>-0.448998</td>\n",
       "    </tr>\n",
       "  </tbody>\n",
       "</table>\n",
       "<p>5 rows × 69 columns</p>\n",
       "</div>"
      ],
      "text/plain": [
       "     Unnamed: 0  psdtheta_1  psdalpha_1  psdbeta_1  psdtheta_2  psdalpha_2  \\\n",
       "62           62   -0.141114   -0.140692  -0.119448   -0.104710   -0.104699   \n",
       "139         139    0.073790    0.069636   0.023678   -0.089031   -0.089341   \n",
       "165         165   -0.013854   -0.016193  -0.034849   -0.136049   -0.135344   \n",
       "314         314   -0.196012   -0.199320  -0.186371   -0.110672   -0.110513   \n",
       "73           73   -0.079468   -0.080361  -0.106198   -0.094159   -0.094358   \n",
       "\n",
       "     psdbeta_2  psdtheta_3  psdalpha_3  psdbeta_3  ...       LFn       HFn  \\\n",
       "62   -0.101114   -0.082800   -0.082761  -0.079441  ... -0.232605 -0.114209   \n",
       "139  -0.089014    0.007956    0.008225   0.012635  ...  0.193562 -0.868610   \n",
       "165  -0.124984    0.004423    0.004773   0.009640  ... -0.346106 -0.606241   \n",
       "314  -0.116581   -0.223288   -0.223314  -0.219851  ...  0.026029 -0.200398   \n",
       "73   -0.092928   -0.006710   -0.006439  -0.001862  ... -0.154904  0.077532   \n",
       "\n",
       "         LnHF       SD1       SD2    SD2SD1       CSI       CVI  CSI_Modified  \\\n",
       "62  -0.650529  0.650951 -0.372099 -0.834526 -0.834526  0.174463     -0.530635   \n",
       "139 -0.411005  0.056721  0.229485  0.113600  0.113600  0.299289      0.030168   \n",
       "165 -0.381628  0.247812  0.766847  0.495424  0.495424  1.035840      0.450107   \n",
       "314 -0.394567  1.440064 -0.236440 -0.930791 -0.930791  0.447371     -0.540515   \n",
       "73  -0.341471 -0.548749 -0.254354  0.104424  0.104424 -0.385843     -0.180756   \n",
       "\n",
       "       SampEn  \n",
       "62  -0.626467  \n",
       "139 -0.254505  \n",
       "165 -1.703384  \n",
       "314  0.318586  \n",
       "73  -0.448998  \n",
       "\n",
       "[5 rows x 69 columns]"
      ]
     },
     "execution_count": 8,
     "metadata": {},
     "output_type": "execute_result"
    }
   ],
   "source": [
    "X_train.head()"
   ]
  },
  {
   "cell_type": "code",
   "execution_count": 9,
   "metadata": {},
   "outputs": [],
   "source": [
    "scalar = StandardScaler().fit(X_train)"
   ]
  },
  {
   "cell_type": "code",
   "execution_count": 10,
   "metadata": {},
   "outputs": [
    {
     "name": "stdout",
     "output_type": "stream",
     "text": [
      "StandardScaler()\n"
     ]
    }
   ],
   "source": [
    "print(scalar)"
   ]
  },
  {
   "cell_type": "code",
   "execution_count": 11,
   "metadata": {},
   "outputs": [],
   "source": [
    "X_train_scaled = scalar.transform(X_train)"
   ]
  },
  {
   "cell_type": "code",
   "execution_count": 12,
   "metadata": {},
   "outputs": [
    {
     "name": "stdout",
     "output_type": "stream",
     "text": [
      "[[-1.19261188 -0.16416244 -0.16337205 ...  0.19734031 -0.5112989\n",
      "  -0.64757225]\n",
      " [-0.54925312  0.01666869  0.01359826 ...  0.32137198  0.08314031\n",
      "  -0.27064393]\n",
      " [-0.3320151  -0.05707981 -0.0586186  ...  1.0532352   0.52826597\n",
      "  -1.73886851]\n",
      " ...\n",
      " [-1.5017583  -0.23266798 -0.23032493 ...  0.71562481 -0.32030688\n",
      "   1.29097023]\n",
      " [-0.07300053 -0.13830683 -0.13807351 ... -0.45604905 -0.26510773\n",
      "  -0.33779617]\n",
      " [-0.24846201 -0.18896927 -0.18760407 ...  0.32625174  0.3096486\n",
      "  -0.15701199]]\n"
     ]
    }
   ],
   "source": [
    "print(X_train_scaled)"
   ]
  },
  {
   "cell_type": "code",
   "execution_count": 13,
   "metadata": {},
   "outputs": [
    {
     "data": {
      "text/html": [
       "<div>\n",
       "<style scoped>\n",
       "    .dataframe tbody tr th:only-of-type {\n",
       "        vertical-align: middle;\n",
       "    }\n",
       "\n",
       "    .dataframe tbody tr th {\n",
       "        vertical-align: top;\n",
       "    }\n",
       "\n",
       "    .dataframe thead th {\n",
       "        text-align: right;\n",
       "    }\n",
       "</style>\n",
       "<table border=\"1\" class=\"dataframe\">\n",
       "  <thead>\n",
       "    <tr style=\"text-align: right;\">\n",
       "      <th></th>\n",
       "      <th>Unnamed: 0</th>\n",
       "      <th>psdtheta_1</th>\n",
       "      <th>psdalpha_1</th>\n",
       "      <th>psdbeta_1</th>\n",
       "      <th>psdtheta_2</th>\n",
       "      <th>psdalpha_2</th>\n",
       "      <th>psdbeta_2</th>\n",
       "      <th>psdtheta_3</th>\n",
       "      <th>psdalpha_3</th>\n",
       "      <th>psdbeta_3</th>\n",
       "      <th>...</th>\n",
       "      <th>LFn</th>\n",
       "      <th>HFn</th>\n",
       "      <th>LnHF</th>\n",
       "      <th>SD1</th>\n",
       "      <th>SD2</th>\n",
       "      <th>SD2SD1</th>\n",
       "      <th>CSI</th>\n",
       "      <th>CVI</th>\n",
       "      <th>CSI_Modified</th>\n",
       "      <th>SampEn</th>\n",
       "    </tr>\n",
       "  </thead>\n",
       "  <tbody>\n",
       "    <tr>\n",
       "      <th>258</th>\n",
       "      <td>258</td>\n",
       "      <td>-0.249189</td>\n",
       "      <td>-0.247980</td>\n",
       "      <td>-0.192473</td>\n",
       "      <td>-0.110200</td>\n",
       "      <td>-0.110053</td>\n",
       "      <td>-0.105823</td>\n",
       "      <td>-0.068587</td>\n",
       "      <td>-0.068429</td>\n",
       "      <td>-0.213521</td>\n",
       "      <td>...</td>\n",
       "      <td>0.144568</td>\n",
       "      <td>-0.390791</td>\n",
       "      <td>0.020082</td>\n",
       "      <td>-0.683698</td>\n",
       "      <td>-0.738277</td>\n",
       "      <td>-0.399922</td>\n",
       "      <td>-0.399922</td>\n",
       "      <td>-0.776803</td>\n",
       "      <td>-0.520233</td>\n",
       "      <td>-0.066232</td>\n",
       "    </tr>\n",
       "    <tr>\n",
       "      <th>109</th>\n",
       "      <td>109</td>\n",
       "      <td>-0.118355</td>\n",
       "      <td>-0.108406</td>\n",
       "      <td>-0.091417</td>\n",
       "      <td>-0.136241</td>\n",
       "      <td>-0.134436</td>\n",
       "      <td>-0.106759</td>\n",
       "      <td>-0.229440</td>\n",
       "      <td>-0.220518</td>\n",
       "      <td>-0.130710</td>\n",
       "      <td>...</td>\n",
       "      <td>-0.385106</td>\n",
       "      <td>1.385564</td>\n",
       "      <td>-0.298614</td>\n",
       "      <td>0.011067</td>\n",
       "      <td>-1.214706</td>\n",
       "      <td>-1.374222</td>\n",
       "      <td>-1.374222</td>\n",
       "      <td>-0.946618</td>\n",
       "      <td>-0.870889</td>\n",
       "      <td>1.324420</td>\n",
       "    </tr>\n",
       "    <tr>\n",
       "      <th>90</th>\n",
       "      <td>90</td>\n",
       "      <td>-0.209398</td>\n",
       "      <td>-0.207427</td>\n",
       "      <td>-0.164479</td>\n",
       "      <td>-0.131276</td>\n",
       "      <td>-0.130673</td>\n",
       "      <td>-0.121324</td>\n",
       "      <td>-0.283281</td>\n",
       "      <td>-0.283458</td>\n",
       "      <td>-0.280658</td>\n",
       "      <td>...</td>\n",
       "      <td>-0.171066</td>\n",
       "      <td>-1.150239</td>\n",
       "      <td>-0.259189</td>\n",
       "      <td>-0.445489</td>\n",
       "      <td>1.748704</td>\n",
       "      <td>2.456886</td>\n",
       "      <td>2.456886</td>\n",
       "      <td>0.838386</td>\n",
       "      <td>2.199353</td>\n",
       "      <td>-1.245896</td>\n",
       "    </tr>\n",
       "    <tr>\n",
       "      <th>148</th>\n",
       "      <td>148</td>\n",
       "      <td>-0.276849</td>\n",
       "      <td>-0.273391</td>\n",
       "      <td>-0.209189</td>\n",
       "      <td>-0.135012</td>\n",
       "      <td>-0.134333</td>\n",
       "      <td>-0.124204</td>\n",
       "      <td>-0.133681</td>\n",
       "      <td>-0.113607</td>\n",
       "      <td>0.081133</td>\n",
       "      <td>...</td>\n",
       "      <td>-0.310472</td>\n",
       "      <td>0.074449</td>\n",
       "      <td>-0.857192</td>\n",
       "      <td>-1.070383</td>\n",
       "      <td>-1.066707</td>\n",
       "      <td>-0.525492</td>\n",
       "      <td>-0.525492</td>\n",
       "      <td>-1.615853</td>\n",
       "      <td>-0.661820</td>\n",
       "      <td>0.809403</td>\n",
       "    </tr>\n",
       "    <tr>\n",
       "      <th>388</th>\n",
       "      <td>388</td>\n",
       "      <td>-0.279400</td>\n",
       "      <td>-0.275885</td>\n",
       "      <td>-0.210879</td>\n",
       "      <td>-0.152776</td>\n",
       "      <td>-0.151713</td>\n",
       "      <td>-0.137803</td>\n",
       "      <td>-0.364385</td>\n",
       "      <td>-0.364681</td>\n",
       "      <td>-0.362319</td>\n",
       "      <td>...</td>\n",
       "      <td>-0.183502</td>\n",
       "      <td>-0.831548</td>\n",
       "      <td>-0.494745</td>\n",
       "      <td>-1.131806</td>\n",
       "      <td>-0.767932</td>\n",
       "      <td>-0.014093</td>\n",
       "      <td>-0.014093</td>\n",
       "      <td>-1.214538</td>\n",
       "      <td>-0.420367</td>\n",
       "      <td>0.901645</td>\n",
       "    </tr>\n",
       "  </tbody>\n",
       "</table>\n",
       "<p>5 rows × 69 columns</p>\n",
       "</div>"
      ],
      "text/plain": [
       "     Unnamed: 0  psdtheta_1  psdalpha_1  psdbeta_1  psdtheta_2  psdalpha_2  \\\n",
       "258         258   -0.249189   -0.247980  -0.192473   -0.110200   -0.110053   \n",
       "109         109   -0.118355   -0.108406  -0.091417   -0.136241   -0.134436   \n",
       "90           90   -0.209398   -0.207427  -0.164479   -0.131276   -0.130673   \n",
       "148         148   -0.276849   -0.273391  -0.209189   -0.135012   -0.134333   \n",
       "388         388   -0.279400   -0.275885  -0.210879   -0.152776   -0.151713   \n",
       "\n",
       "     psdbeta_2  psdtheta_3  psdalpha_3  psdbeta_3  ...       LFn       HFn  \\\n",
       "258  -0.105823   -0.068587   -0.068429  -0.213521  ...  0.144568 -0.390791   \n",
       "109  -0.106759   -0.229440   -0.220518  -0.130710  ... -0.385106  1.385564   \n",
       "90   -0.121324   -0.283281   -0.283458  -0.280658  ... -0.171066 -1.150239   \n",
       "148  -0.124204   -0.133681   -0.113607   0.081133  ... -0.310472  0.074449   \n",
       "388  -0.137803   -0.364385   -0.364681  -0.362319  ... -0.183502 -0.831548   \n",
       "\n",
       "         LnHF       SD1       SD2    SD2SD1       CSI       CVI  CSI_Modified  \\\n",
       "258  0.020082 -0.683698 -0.738277 -0.399922 -0.399922 -0.776803     -0.520233   \n",
       "109 -0.298614  0.011067 -1.214706 -1.374222 -1.374222 -0.946618     -0.870889   \n",
       "90  -0.259189 -0.445489  1.748704  2.456886  2.456886  0.838386      2.199353   \n",
       "148 -0.857192 -1.070383 -1.066707 -0.525492 -0.525492 -1.615853     -0.661820   \n",
       "388 -0.494745 -1.131806 -0.767932 -0.014093 -0.014093 -1.214538     -0.420367   \n",
       "\n",
       "       SampEn  \n",
       "258 -0.066232  \n",
       "109  1.324420  \n",
       "90  -1.245896  \n",
       "148  0.809403  \n",
       "388  0.901645  \n",
       "\n",
       "[5 rows x 69 columns]"
      ]
     },
     "execution_count": 13,
     "metadata": {},
     "output_type": "execute_result"
    }
   ],
   "source": [
    "X_test.head()"
   ]
  },
  {
   "cell_type": "code",
   "execution_count": 14,
   "metadata": {},
   "outputs": [],
   "source": [
    "scaler = StandardScaler().fit(X_test)"
   ]
  },
  {
   "cell_type": "code",
   "execution_count": 15,
   "metadata": {},
   "outputs": [],
   "source": [
    "X_test_scaled = scalar.transform(X_test)"
   ]
  },
  {
   "cell_type": "code",
   "execution_count": 16,
   "metadata": {},
   "outputs": [
    {
     "name": "stdout",
     "output_type": "stream",
     "text": [
      "[[ 0.4450286  -0.25510224 -0.2536442  ... -0.74787182 -0.50027228\n",
      "  -0.07985729]\n",
      " [-0.79991238 -0.14501239 -0.13620606 ... -0.91660627 -0.87195957\n",
      "   1.32936399]\n",
      " [-0.95866324 -0.2216204  -0.2195228  ...  0.85703817  2.38242619\n",
      "  -1.27527229]\n",
      " ...\n",
      " [-0.99208447 -0.11036412 -0.11160022 ... -0.46825135 -0.33711337\n",
      "  -0.7535352 ]\n",
      " [-1.40149459 -0.12994574 -0.12981621 ... -0.90624941 -0.78511123\n",
      "  -0.30899518]\n",
      " [-1.69393039 -0.15286669 -0.15230448 ...  0.22386537  0.0535392\n",
      "  -0.61941591]]\n"
     ]
    }
   ],
   "source": [
    "print(X_test_scaled)"
   ]
  },
  {
   "cell_type": "code",
   "execution_count": 17,
   "metadata": {},
   "outputs": [],
   "source": [
    "from sklearn import linear_model\n",
    "from sklearn.model_selection import KFold\n",
    "from sklearn.metrics import mean_squared_error, mean_absolute_error\n",
    "# Linear Regression \n",
    "LM=linear_model.LinearRegression()"
   ]
  },
  {
   "cell_type": "code",
   "execution_count": 18,
   "metadata": {},
   "outputs": [
    {
     "name": "stdout",
     "output_type": "stream",
     "text": [
      "Linear Regression MAE :  0.3502849008767723\n",
      "Linear Regression MSE :  0.2657195975334306\n",
      "Linear Regression RMSE :  0.42088763150705727\n"
     ]
    }
   ],
   "source": [
    "kf = KFold(n_splits=8)\n",
    "mse_err = 0\n",
    "mae_err = 0\n",
    "LinearRMSE = 0\n",
    "for train, test in kf.split(df):\n",
    "    LM.fit(X_train_scaled,Y_train)\n",
    "    linearpredicted = LM.predict(X_test_scaled)\n",
    "    mae_err += mean_absolute_error(Y_test,linearpredicted)\n",
    "    mse_err += mean_squared_error(Y_test,linearpredicted)\n",
    "    LinearRMSE += np.sqrt(mean_squared_error(Y_test,linearpredicted))\n",
    "    mae = mae_err/12\n",
    "    mse = mse_err/12\n",
    "    rmse = LinearRMSE/12\n",
    "print('Linear Regression MAE : ', mae)\n",
    "print('Linear Regression MSE : ', mse)\n",
    "print('Linear Regression RMSE : ', rmse)"
   ]
  },
  {
   "cell_type": "code",
   "execution_count": 19,
   "metadata": {},
   "outputs": [
    {
     "data": {
      "text/plain": [
       "LinearRegression(copy_X=True, fit_intercept=True, n_jobs=1, normalize=False)"
      ]
     },
     "execution_count": 19,
     "metadata": {},
     "output_type": "execute_result"
    }
   ],
   "source": [
    "#Fit the model over the training dataset\n",
    "from sklearn.linear_model import LinearRegression\n",
    "model = LinearRegression()\n",
    "model.fit(X_train_scaled,Y_train)"
   ]
  },
  {
   "cell_type": "code",
   "execution_count": 20,
   "metadata": {},
   "outputs": [
    {
     "name": "stdout",
     "output_type": "stream",
     "text": [
      "0.37716262975778525\n",
      "[ 8.39045978e-03  4.08000159e+00 -4.15493003e+00  1.20217920e-01\n",
      "  4.31526123e+00 -4.45822649e+00  2.02843952e-01  2.00148645e-01\n",
      " -2.10992280e-01  1.47894270e-02  8.06597801e-01 -1.05037811e+00\n",
      "  2.83020385e-01 -2.10488593e+00  2.28850256e+00 -2.09754918e-01\n",
      "  1.79345421e+00 -2.04508860e+00  2.74337256e-01 -6.42938831e+00\n",
      "  7.14054079e+00 -6.90728373e-01 -2.58924453e-01  3.83183916e-02\n",
      "  1.93984282e-01  1.60777814e+00 -1.64078582e+00  8.38615646e-02\n",
      "  1.87863885e+00 -1.95776354e+00  1.58912277e-01 -1.30250902e+00\n",
      "  1.71430405e+00 -4.19759533e-01 -2.58334536e+00  2.93537818e+00\n",
      " -3.06867112e-01 -1.58152359e+01  1.81245680e+01 -2.38716491e+00\n",
      "  1.67759015e+00 -1.64362283e+00 -5.84840661e-02  2.60138724e-01\n",
      " -2.36417376e-01  2.57998440e-01 -8.16594993e-01 -2.34359895e-01\n",
      " -3.04614640e-01  7.31083308e-01 -6.83932366e-02  1.22551448e+00\n",
      " -1.26401264e+00  4.45211603e-02 -3.98507512e-02  1.47630225e-01\n",
      " -5.72911754e-02 -1.22974628e-02  4.13168908e-02 -1.74698469e-01\n",
      "  7.87889358e-02 -2.71450154e-02 -2.34359895e-01  1.43929573e+00\n",
      " -1.34667783e-02 -1.34667783e-02 -1.83484261e-01 -3.16340657e-01\n",
      " -4.56022049e-02]\n"
     ]
    }
   ],
   "source": [
    "#Calculate intercept and coefficient\n",
    "print(model.intercept_)\n",
    "print(model.coef_)\n",
    "pred=model.predict(X_test_scaled)\n",
    "predictions = pred.reshape(-1,1)"
   ]
  },
  {
   "cell_type": "code",
   "execution_count": 63,
   "metadata": {},
   "outputs": [
    {
     "name": "stdout",
     "output_type": "stream",
     "text": [
      "Linear Regression MAE :  0.5254273513151672\n",
      "Linear Regression MSE :  0.39857939630015016\n",
      "Linear Regression RMSE :  0.6313314472605892\n"
     ]
    }
   ],
   "source": [
    "#Calculate root mean squared error to evaluate model performance Linear Regression\n",
    "from sklearn.metrics import mean_squared_error, mean_absolute_error\n",
    "LinearMAE = mean_absolute_error(Y_test,predictions)\n",
    "LinearMSE = mean_squared_error(Y_test,predictions)\n",
    "LinearRMSE = np.sqrt(mean_squared_error(Y_test,predictions))\n",
    "print('Linear Regression MAE : ', mean_absolute_error(Y_test,predictions))\n",
    "print('Linear Regression MSE : ', mean_squared_error(Y_test,predictions))\n",
    "print('Linear Regression RMSE : ', np.sqrt(mean_squared_error(Y_test,predictions)))"
   ]
  },
  {
   "cell_type": "code",
   "execution_count": 80,
   "metadata": {},
   "outputs": [],
   "source": [
    "from sklearn.linear_model import LogisticRegression\n",
    "logreg = LogisticRegression(penalty='l2',C=1.0,max_iter=1000)\n",
    "logreg.fit(X_train_scaled, Y_train)\n",
    "logregpred = logreg.predict(X_test_scaled)\n",
    "logregprediction = logregpred.reshape(-1,1)"
   ]
  },
  {
   "cell_type": "code",
   "execution_count": 81,
   "metadata": {},
   "outputs": [
    {
     "name": "stdout",
     "output_type": "stream",
     "text": [
      "Logistic Regression MAE :  0.456\n",
      "Logistic Regression MSE :  0.456\n",
      "Logistic Regression RMSE :  0.6752777206453653\n"
     ]
    }
   ],
   "source": [
    "#Calculate root mean squared error to evaluate model performance Logistic Regression\n",
    "LogisticMAE = mean_absolute_error(Y_test,logregprediction)\n",
    "LogisticMSE = mean_squared_error(Y_test,logregprediction)\n",
    "LogisticRMSE = np.sqrt(mean_squared_error(Y_test,logregprediction))\n",
    "print('Logistic Regression MAE : ', mean_absolute_error(Y_test,logregprediction))\n",
    "print('Logistic Regression MSE : ', mean_squared_error(Y_test,logregprediction))\n",
    "print('Logistic Regression RMSE : ', np.sqrt(mean_squared_error(Y_test,logregprediction)))"
   ]
  },
  {
   "cell_type": "code",
   "execution_count": 82,
   "metadata": {},
   "outputs": [],
   "source": [
    "from sklearn.tree import DecisionTreeRegressor\n",
    "dtr = DecisionTreeRegressor()"
   ]
  },
  {
   "cell_type": "code",
   "execution_count": 83,
   "metadata": {},
   "outputs": [],
   "source": [
    "dtr.fit(X_train_scaled, Y_train)\n",
    "dtrpred = dtr.predict(X_test_scaled)\n",
    "dtrprediction = dtrpred.reshape(-1,1)"
   ]
  },
  {
   "cell_type": "code",
   "execution_count": 67,
   "metadata": {},
   "outputs": [
    {
     "name": "stdout",
     "output_type": "stream",
     "text": [
      "DecisionTreeRegressor MAE :  0.472\n",
      "DecisionTreeRegressor MSE :  0.472\n",
      "DecisionTreeRegressor RMSE :  0.6870225614927067\n"
     ]
    }
   ],
   "source": [
    "DecisionTreeMAE = mean_absolute_error(Y_test,dtrprediction)\n",
    "DecisionTreeMSE = mean_squared_error(Y_test,dtrprediction)\n",
    "DecisionTreeRMSE = np.sqrt(mean_squared_error(Y_test,dtrprediction))\n",
    "print('DecisionTreeRegressor MAE : ', mean_absolute_error(Y_test,dtrprediction))\n",
    "print('DecisionTreeRegressor MSE : ', mean_squared_error(Y_test,dtrprediction))\n",
    "print('DecisionTreeRegressor RMSE : ', np.sqrt(mean_squared_error(Y_test,dtrprediction)))"
   ]
  },
  {
   "cell_type": "code",
   "execution_count": 68,
   "metadata": {},
   "outputs": [],
   "source": [
    "from sklearn.svm import SVR # Support Vector Regression\n",
    "# Fit regression model\n",
    "svr = SVR().fit(X_train_scaled, Y_train)\n",
    "# Predict\n",
    "svrpred = svr.predict(X_test_scaled)\n",
    "svrprediction = svrpred.reshape(-1,1)"
   ]
  },
  {
   "cell_type": "code",
   "execution_count": 69,
   "metadata": {},
   "outputs": [
    {
     "name": "stdout",
     "output_type": "stream",
     "text": [
      "Support Vector Regression MAE :  0.4663628751355776\n",
      "Support Vector Regression MSE :  0.32018145977423323\n",
      "Support Vector Regression RMSE :  0.5658457915141132\n"
     ]
    }
   ],
   "source": [
    "SVRMAE = mean_absolute_error(Y_test,svrprediction)\n",
    "SVRMSE = mean_squared_error(Y_test,svrprediction)\n",
    "SVRRMSE = np.sqrt(mean_squared_error(Y_test,svrprediction))\n",
    "print('Support Vector Regression MAE : ', mean_absolute_error(Y_test,svrprediction))\n",
    "print('Support Vector Regression MSE : ', mean_squared_error(Y_test,svrprediction))\n",
    "print('Support Vector Regression RMSE : ', np.sqrt(mean_squared_error(Y_test,svrprediction)))"
   ]
  },
  {
   "cell_type": "code",
   "execution_count": 70,
   "metadata": {},
   "outputs": [],
   "source": [
    "# Lasso Regression\n",
    "# Fit regression model\n",
    "lassoReg = linear_model.Lasso(alpha=0.1)\n",
    "lassoReg.fit(X_train_scaled,Y_train)\n",
    "# Predict\n",
    "lassoRegpred = lassoReg.predict(X_test_scaled)\n",
    "lassoRegprediction = lassoRegpred.reshape(-1,1)"
   ]
  },
  {
   "cell_type": "code",
   "execution_count": 71,
   "metadata": {},
   "outputs": [
    {
     "name": "stdout",
     "output_type": "stream",
     "text": [
      "Lasso Regression MAE :  0.4832941176470588\n",
      "Lasso Regression MSE :  0.24838313717508162\n",
      "Lasso Regression RMSE :  0.4983805144416078\n"
     ]
    }
   ],
   "source": [
    "LassoMAE = mean_absolute_error(Y_test,lassoRegprediction)\n",
    "LassoMSE = mean_squared_error(Y_test,lassoRegprediction)\n",
    "LassoRMSE = np.sqrt(mean_squared_error(Y_test,lassoRegprediction))\n",
    "print('Lasso Regression MAE : ', mean_absolute_error(Y_test,lassoRegprediction))\n",
    "print('Lasso Regression MSE : ', mean_squared_error(Y_test,lassoRegprediction))\n",
    "print('Lasso Regression RMSE : ', np.sqrt(mean_squared_error(Y_test,lassoRegprediction)))"
   ]
  },
  {
   "cell_type": "code",
   "execution_count": 72,
   "metadata": {},
   "outputs": [],
   "source": [
    "from sklearn import neighbors\n",
    "model = neighbors.KNeighborsRegressor(n_neighbors = 10)\n",
    "model.fit(X_train_scaled, Y_train)  #fit the model\n",
    "neighborpred=model.predict(X_test_scaled) #make prediction on test set\n",
    "neighborprediction = neighborpred.reshape(-1,1)"
   ]
  },
  {
   "cell_type": "code",
   "execution_count": 73,
   "metadata": {},
   "outputs": [
    {
     "name": "stdout",
     "output_type": "stream",
     "text": [
      "KNN Regression MAE :  0.4728\n",
      "KNN Regression MSE :  0.26584\n",
      "KNN Regression RMSE :  0.5155967416499061\n"
     ]
    }
   ],
   "source": [
    "NeighborMAE = mean_absolute_error(Y_test,neighborprediction)\n",
    "NeighborMSE = mean_squared_error(Y_test,neighborprediction)\n",
    "NeighborRMSE = np.sqrt(mean_squared_error(Y_test,neighborprediction))\n",
    "print('KNN Regression MAE : ', mean_absolute_error(Y_test,neighborprediction))\n",
    "print('KNN Regression MSE : ', mean_squared_error(Y_test,neighborprediction))\n",
    "print('KNN Regression RMSE : ', np.sqrt(mean_squared_error(Y_test,neighborprediction)))"
   ]
  },
  {
   "cell_type": "code",
   "execution_count": 74,
   "metadata": {},
   "outputs": [
    {
     "data": {
      "image/png": "[encoded data removed]",
      "text/plain": [
       "<Figure size 432x288 with 1 Axes>"
      ]
     },
     "metadata": {
      "needs_background": "light"
     },
     "output_type": "display_data"
    }
   ],
   "source": [
    "X=['Linear','Logistic','DecisionTree','SVR','Lasso','Neighbor']\n",
    "Y=[LinearMAE,LogisticMAE,DecisionTreeMAE,SVRMAE,LassoMAE,NeighborMAE]\n",
    "plt.title(\"Mean Absolute Error\")\n",
    "plt.scatter(X, Y, color=\"blue\", label=\"MAE\")\n",
    "plt.plot(X, Y, color=\"red\", label=\"graph\")\n",
    "plt.legend()\n",
    "plt.show() "
   ]
  },
  {
   "cell_type": "code",
   "execution_count": 75,
   "metadata": {},
   "outputs": [
    {
     "data": {
      "image/png": "[encoded data removed]",
      "text/plain": [
       "<Figure size 432x288 with 1 Axes>"
      ]
     },
     "metadata": {
      "needs_background": "light"
     },
     "output_type": "display_data"
    }
   ],
   "source": [
    "X=['Linear','Logistic','DecisionTree','SVR','Lasso','Neighbor']\n",
    "Y=[LinearMSE,LogisticMSE,DecisionTreeMSE,SVRMSE,LassoMSE,NeighborMSE]\n",
    "plt.title(\"Mean Squared Error\")\n",
    "plt.scatter(X, Y, color=\"blue\", label=\"MSE\")\n",
    "plt.plot(X, Y, color=\"red\", label=\"graph\")\n",
    "plt.legend()\n",
    "plt.show() "
   ]
  },
  {
   "cell_type": "code",
   "execution_count": 76,
   "metadata": {},
   "outputs": [
    {
     "data": {
      "image/png": "[encoded data removed]",
      "text/plain": [
       "<Figure size 432x288 with 1 Axes>"
      ]
     },
     "metadata": {
      "needs_background": "light"
     },
     "output_type": "display_data"
    }
   ],
   "source": [
    "X=['Linear','Logistic','DecisionTree','SVR','Lasso','Neighbor']\n",
    "Y=[LinearRMSE,LogisticRMSE,DecisionTreeRMSE,SVRRMSE,LassoRMSE,NeighborRMSE]\n",
    "plt.title(\"Relative Mean Squared Error\")\n",
    "plt.scatter(X, Y, color=\"blue\", label=\"RMSE\")\n",
    "plt.plot(X, Y, color=\"red\", label=\"graph\")\n",
    "plt.legend()\n",
    "plt.show()"
   ]
  },
  {
   "cell_type": "code",
   "execution_count": null,
   "metadata": {},
   "outputs": [],
   "source": []
  }
 ],
 "metadata": {
  "kernelspec": {
   "display_name": "Python 3.7.13 ('py37')",
   "language": "python",
   "name": "python3"
  },
  "language_info": {
   "codemirror_mode": {
    "name": "ipython",
    "version": 3
   },
   "file_extension": ".py",
   "mimetype": "text/x-python",
   "name": "python",
   "nbconvert_exporter": "python",
   "pygments_lexer": "ipython3",
   "version": "3.7.13"
  },
  "vscode": {
   "interpreter": {
    "hash": "08dd316281bd4f14d099c44ca656613e0195ebbc73c66194a45ef47379b4b49b"
   }
  }
 },
 "nbformat": 4,
 "nbformat_minor": 2
}
